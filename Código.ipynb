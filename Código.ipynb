{
  "nbformat": 4,
  "nbformat_minor": 0,
  "metadata": {
    "colab": {
      "provenance": []
    },
    "kernelspec": {
      "name": "python3",
      "display_name": "Python 3"
    },
    "language_info": {
      "name": "python"
    }
  },
  "cells": [
    {
      "cell_type": "code",
      "execution_count": null,
      "metadata": {
        "id": "bUfXno1V--aV"
      },
      "outputs": [],
      "source": [
        "import pandas as pd"
      ]
    },
    {
      "cell_type": "code",
      "source": [
        "df = pd.read_csv('/content/drive/MyDrive/Data Science EBAC/Datasets Colab/online_retail_II.csv')\n",
        "df.head()"
      ],
      "metadata": {
        "colab": {
          "base_uri": "https://localhost:8080/",
          "height": 206
        },
        "id": "PgWYoKr1_r9o",
        "outputId": "392d9023-2696-4712-a209-b45cac8f2f10"
      },
      "execution_count": null,
      "outputs": [
        {
          "output_type": "execute_result",
          "data": {
            "text/plain": [
              "  Invoice StockCode                          Description  Quantity  \\\n",
              "0  489434     85048  15CM CHRISTMAS GLASS BALL 20 LIGHTS        12   \n",
              "1  489434    79323P                   PINK CHERRY LIGHTS        12   \n",
              "2  489434    79323W                  WHITE CHERRY LIGHTS        12   \n",
              "3  489434     22041         RECORD FRAME 7\" SINGLE SIZE         48   \n",
              "4  489434     21232       STRAWBERRY CERAMIC TRINKET BOX        24   \n",
              "\n",
              "           InvoiceDate  Price  Customer ID         Country  \n",
              "0  2009-12-01 07:45:00   6.95      13085.0  United Kingdom  \n",
              "1  2009-12-01 07:45:00   6.75      13085.0  United Kingdom  \n",
              "2  2009-12-01 07:45:00   6.75      13085.0  United Kingdom  \n",
              "3  2009-12-01 07:45:00   2.10      13085.0  United Kingdom  \n",
              "4  2009-12-01 07:45:00   1.25      13085.0  United Kingdom  "
            ],
            "text/html": [
              "\n",
              "  <div id=\"df-831f19c0-7fdd-4bda-aed4-fc640f6a2860\" class=\"colab-df-container\">\n",
              "    <div>\n",
              "<style scoped>\n",
              "    .dataframe tbody tr th:only-of-type {\n",
              "        vertical-align: middle;\n",
              "    }\n",
              "\n",
              "    .dataframe tbody tr th {\n",
              "        vertical-align: top;\n",
              "    }\n",
              "\n",
              "    .dataframe thead th {\n",
              "        text-align: right;\n",
              "    }\n",
              "</style>\n",
              "<table border=\"1\" class=\"dataframe\">\n",
              "  <thead>\n",
              "    <tr style=\"text-align: right;\">\n",
              "      <th></th>\n",
              "      <th>Invoice</th>\n",
              "      <th>StockCode</th>\n",
              "      <th>Description</th>\n",
              "      <th>Quantity</th>\n",
              "      <th>InvoiceDate</th>\n",
              "      <th>Price</th>\n",
              "      <th>Customer ID</th>\n",
              "      <th>Country</th>\n",
              "    </tr>\n",
              "  </thead>\n",
              "  <tbody>\n",
              "    <tr>\n",
              "      <th>0</th>\n",
              "      <td>489434</td>\n",
              "      <td>85048</td>\n",
              "      <td>15CM CHRISTMAS GLASS BALL 20 LIGHTS</td>\n",
              "      <td>12</td>\n",
              "      <td>2009-12-01 07:45:00</td>\n",
              "      <td>6.95</td>\n",
              "      <td>13085.0</td>\n",
              "      <td>United Kingdom</td>\n",
              "    </tr>\n",
              "    <tr>\n",
              "      <th>1</th>\n",
              "      <td>489434</td>\n",
              "      <td>79323P</td>\n",
              "      <td>PINK CHERRY LIGHTS</td>\n",
              "      <td>12</td>\n",
              "      <td>2009-12-01 07:45:00</td>\n",
              "      <td>6.75</td>\n",
              "      <td>13085.0</td>\n",
              "      <td>United Kingdom</td>\n",
              "    </tr>\n",
              "    <tr>\n",
              "      <th>2</th>\n",
              "      <td>489434</td>\n",
              "      <td>79323W</td>\n",
              "      <td>WHITE CHERRY LIGHTS</td>\n",
              "      <td>12</td>\n",
              "      <td>2009-12-01 07:45:00</td>\n",
              "      <td>6.75</td>\n",
              "      <td>13085.0</td>\n",
              "      <td>United Kingdom</td>\n",
              "    </tr>\n",
              "    <tr>\n",
              "      <th>3</th>\n",
              "      <td>489434</td>\n",
              "      <td>22041</td>\n",
              "      <td>RECORD FRAME 7\" SINGLE SIZE</td>\n",
              "      <td>48</td>\n",
              "      <td>2009-12-01 07:45:00</td>\n",
              "      <td>2.10</td>\n",
              "      <td>13085.0</td>\n",
              "      <td>United Kingdom</td>\n",
              "    </tr>\n",
              "    <tr>\n",
              "      <th>4</th>\n",
              "      <td>489434</td>\n",
              "      <td>21232</td>\n",
              "      <td>STRAWBERRY CERAMIC TRINKET BOX</td>\n",
              "      <td>24</td>\n",
              "      <td>2009-12-01 07:45:00</td>\n",
              "      <td>1.25</td>\n",
              "      <td>13085.0</td>\n",
              "      <td>United Kingdom</td>\n",
              "    </tr>\n",
              "  </tbody>\n",
              "</table>\n",
              "</div>\n",
              "    <div class=\"colab-df-buttons\">\n",
              "\n",
              "  <div class=\"colab-df-container\">\n",
              "    <button class=\"colab-df-convert\" onclick=\"convertToInteractive('df-831f19c0-7fdd-4bda-aed4-fc640f6a2860')\"\n",
              "            title=\"Convert this dataframe to an interactive table.\"\n",
              "            style=\"display:none;\">\n",
              "\n",
              "  <svg xmlns=\"http://www.w3.org/2000/svg\" height=\"24px\" viewBox=\"0 -960 960 960\">\n",
              "    <path d=\"M120-120v-720h720v720H120Zm60-500h600v-160H180v160Zm220 220h160v-160H400v160Zm0 220h160v-160H400v160ZM180-400h160v-160H180v160Zm440 0h160v-160H620v160ZM180-180h160v-160H180v160Zm440 0h160v-160H620v160Z\"/>\n",
              "  </svg>\n",
              "    </button>\n",
              "\n",
              "  <style>\n",
              "    .colab-df-container {\n",
              "      display:flex;\n",
              "      gap: 12px;\n",
              "    }\n",
              "\n",
              "    .colab-df-convert {\n",
              "      background-color: #E8F0FE;\n",
              "      border: none;\n",
              "      border-radius: 50%;\n",
              "      cursor: pointer;\n",
              "      display: none;\n",
              "      fill: #1967D2;\n",
              "      height: 32px;\n",
              "      padding: 0 0 0 0;\n",
              "      width: 32px;\n",
              "    }\n",
              "\n",
              "    .colab-df-convert:hover {\n",
              "      background-color: #E2EBFA;\n",
              "      box-shadow: 0px 1px 2px rgba(60, 64, 67, 0.3), 0px 1px 3px 1px rgba(60, 64, 67, 0.15);\n",
              "      fill: #174EA6;\n",
              "    }\n",
              "\n",
              "    .colab-df-buttons div {\n",
              "      margin-bottom: 4px;\n",
              "    }\n",
              "\n",
              "    [theme=dark] .colab-df-convert {\n",
              "      background-color: #3B4455;\n",
              "      fill: #D2E3FC;\n",
              "    }\n",
              "\n",
              "    [theme=dark] .colab-df-convert:hover {\n",
              "      background-color: #434B5C;\n",
              "      box-shadow: 0px 1px 3px 1px rgba(0, 0, 0, 0.15);\n",
              "      filter: drop-shadow(0px 1px 2px rgba(0, 0, 0, 0.3));\n",
              "      fill: #FFFFFF;\n",
              "    }\n",
              "  </style>\n",
              "\n",
              "    <script>\n",
              "      const buttonEl =\n",
              "        document.querySelector('#df-831f19c0-7fdd-4bda-aed4-fc640f6a2860 button.colab-df-convert');\n",
              "      buttonEl.style.display =\n",
              "        google.colab.kernel.accessAllowed ? 'block' : 'none';\n",
              "\n",
              "      async function convertToInteractive(key) {\n",
              "        const element = document.querySelector('#df-831f19c0-7fdd-4bda-aed4-fc640f6a2860');\n",
              "        const dataTable =\n",
              "          await google.colab.kernel.invokeFunction('convertToInteractive',\n",
              "                                                    [key], {});\n",
              "        if (!dataTable) return;\n",
              "\n",
              "        const docLinkHtml = 'Like what you see? Visit the ' +\n",
              "          '<a target=\"_blank\" href=https://colab.research.google.com/notebooks/data_table.ipynb>data table notebook</a>'\n",
              "          + ' to learn more about interactive tables.';\n",
              "        element.innerHTML = '';\n",
              "        dataTable['output_type'] = 'display_data';\n",
              "        await google.colab.output.renderOutput(dataTable, element);\n",
              "        const docLink = document.createElement('div');\n",
              "        docLink.innerHTML = docLinkHtml;\n",
              "        element.appendChild(docLink);\n",
              "      }\n",
              "    </script>\n",
              "  </div>\n",
              "\n",
              "\n",
              "    <div id=\"df-9e1de4e5-0200-429e-98c6-2e61cdeefb27\">\n",
              "      <button class=\"colab-df-quickchart\" onclick=\"quickchart('df-9e1de4e5-0200-429e-98c6-2e61cdeefb27')\"\n",
              "                title=\"Suggest charts\"\n",
              "                style=\"display:none;\">\n",
              "\n",
              "<svg xmlns=\"http://www.w3.org/2000/svg\" height=\"24px\"viewBox=\"0 0 24 24\"\n",
              "     width=\"24px\">\n",
              "    <g>\n",
              "        <path d=\"M19 3H5c-1.1 0-2 .9-2 2v14c0 1.1.9 2 2 2h14c1.1 0 2-.9 2-2V5c0-1.1-.9-2-2-2zM9 17H7v-7h2v7zm4 0h-2V7h2v10zm4 0h-2v-4h2v4z\"/>\n",
              "    </g>\n",
              "</svg>\n",
              "      </button>\n",
              "\n",
              "<style>\n",
              "  .colab-df-quickchart {\n",
              "      --bg-color: #E8F0FE;\n",
              "      --fill-color: #1967D2;\n",
              "      --hover-bg-color: #E2EBFA;\n",
              "      --hover-fill-color: #174EA6;\n",
              "      --disabled-fill-color: #AAA;\n",
              "      --disabled-bg-color: #DDD;\n",
              "  }\n",
              "\n",
              "  [theme=dark] .colab-df-quickchart {\n",
              "      --bg-color: #3B4455;\n",
              "      --fill-color: #D2E3FC;\n",
              "      --hover-bg-color: #434B5C;\n",
              "      --hover-fill-color: #FFFFFF;\n",
              "      --disabled-bg-color: #3B4455;\n",
              "      --disabled-fill-color: #666;\n",
              "  }\n",
              "\n",
              "  .colab-df-quickchart {\n",
              "    background-color: var(--bg-color);\n",
              "    border: none;\n",
              "    border-radius: 50%;\n",
              "    cursor: pointer;\n",
              "    display: none;\n",
              "    fill: var(--fill-color);\n",
              "    height: 32px;\n",
              "    padding: 0;\n",
              "    width: 32px;\n",
              "  }\n",
              "\n",
              "  .colab-df-quickchart:hover {\n",
              "    background-color: var(--hover-bg-color);\n",
              "    box-shadow: 0 1px 2px rgba(60, 64, 67, 0.3), 0 1px 3px 1px rgba(60, 64, 67, 0.15);\n",
              "    fill: var(--button-hover-fill-color);\n",
              "  }\n",
              "\n",
              "  .colab-df-quickchart-complete:disabled,\n",
              "  .colab-df-quickchart-complete:disabled:hover {\n",
              "    background-color: var(--disabled-bg-color);\n",
              "    fill: var(--disabled-fill-color);\n",
              "    box-shadow: none;\n",
              "  }\n",
              "\n",
              "  .colab-df-spinner {\n",
              "    border: 2px solid var(--fill-color);\n",
              "    border-color: transparent;\n",
              "    border-bottom-color: var(--fill-color);\n",
              "    animation:\n",
              "      spin 1s steps(1) infinite;\n",
              "  }\n",
              "\n",
              "  @keyframes spin {\n",
              "    0% {\n",
              "      border-color: transparent;\n",
              "      border-bottom-color: var(--fill-color);\n",
              "      border-left-color: var(--fill-color);\n",
              "    }\n",
              "    20% {\n",
              "      border-color: transparent;\n",
              "      border-left-color: var(--fill-color);\n",
              "      border-top-color: var(--fill-color);\n",
              "    }\n",
              "    30% {\n",
              "      border-color: transparent;\n",
              "      border-left-color: var(--fill-color);\n",
              "      border-top-color: var(--fill-color);\n",
              "      border-right-color: var(--fill-color);\n",
              "    }\n",
              "    40% {\n",
              "      border-color: transparent;\n",
              "      border-right-color: var(--fill-color);\n",
              "      border-top-color: var(--fill-color);\n",
              "    }\n",
              "    60% {\n",
              "      border-color: transparent;\n",
              "      border-right-color: var(--fill-color);\n",
              "    }\n",
              "    80% {\n",
              "      border-color: transparent;\n",
              "      border-right-color: var(--fill-color);\n",
              "      border-bottom-color: var(--fill-color);\n",
              "    }\n",
              "    90% {\n",
              "      border-color: transparent;\n",
              "      border-bottom-color: var(--fill-color);\n",
              "    }\n",
              "  }\n",
              "</style>\n",
              "\n",
              "      <script>\n",
              "        async function quickchart(key) {\n",
              "          const quickchartButtonEl =\n",
              "            document.querySelector('#' + key + ' button');\n",
              "          quickchartButtonEl.disabled = true;  // To prevent multiple clicks.\n",
              "          quickchartButtonEl.classList.add('colab-df-spinner');\n",
              "          try {\n",
              "            const charts = await google.colab.kernel.invokeFunction(\n",
              "                'suggestCharts', [key], {});\n",
              "          } catch (error) {\n",
              "            console.error('Error during call to suggestCharts:', error);\n",
              "          }\n",
              "          quickchartButtonEl.classList.remove('colab-df-spinner');\n",
              "          quickchartButtonEl.classList.add('colab-df-quickchart-complete');\n",
              "        }\n",
              "        (() => {\n",
              "          let quickchartButtonEl =\n",
              "            document.querySelector('#df-9e1de4e5-0200-429e-98c6-2e61cdeefb27 button');\n",
              "          quickchartButtonEl.style.display =\n",
              "            google.colab.kernel.accessAllowed ? 'block' : 'none';\n",
              "        })();\n",
              "      </script>\n",
              "    </div>\n",
              "\n",
              "    </div>\n",
              "  </div>\n"
            ],
            "application/vnd.google.colaboratory.intrinsic+json": {
              "type": "dataframe",
              "variable_name": "df"
            }
          },
          "metadata": {},
          "execution_count": 2
        }
      ]
    },
    {
      "cell_type": "markdown",
      "source": [
        "# Revisión rápida del dataset para asegurar que los datos estén listos para ser procesados más adelante"
      ],
      "metadata": {
        "id": "WPzCp4USAwg5"
      }
    },
    {
      "cell_type": "code",
      "source": [
        "df.info()"
      ],
      "metadata": {
        "colab": {
          "base_uri": "https://localhost:8080/"
        },
        "id": "vE1-G0nMAF4D",
        "outputId": "380185bb-8ed9-46e5-ccab-aadd353d0634"
      },
      "execution_count": null,
      "outputs": [
        {
          "output_type": "stream",
          "name": "stdout",
          "text": [
            "<class 'pandas.core.frame.DataFrame'>\n",
            "RangeIndex: 1067371 entries, 0 to 1067370\n",
            "Data columns (total 8 columns):\n",
            " #   Column       Non-Null Count    Dtype  \n",
            "---  ------       --------------    -----  \n",
            " 0   Invoice      1067371 non-null  object \n",
            " 1   StockCode    1067371 non-null  object \n",
            " 2   Description  1062989 non-null  object \n",
            " 3   Quantity     1067371 non-null  int64  \n",
            " 4   InvoiceDate  1067371 non-null  object \n",
            " 5   Price        1067371 non-null  float64\n",
            " 6   Customer ID  824364 non-null   float64\n",
            " 7   Country      1067371 non-null  object \n",
            "dtypes: float64(2), int64(1), object(5)\n",
            "memory usage: 65.1+ MB\n"
          ]
        }
      ]
    },
    {
      "cell_type": "code",
      "source": [
        "df.describe()"
      ],
      "metadata": {
        "colab": {
          "base_uri": "https://localhost:8080/",
          "height": 300
        },
        "id": "x0myX2PFAJdm",
        "outputId": "dbb0026a-ca7b-4640-d762-39bd015e88a9"
      },
      "execution_count": null,
      "outputs": [
        {
          "output_type": "execute_result",
          "data": {
            "text/plain": [
              "           Quantity         Price    Customer ID\n",
              "count  1.067371e+06  1.067371e+06  824364.000000\n",
              "mean   9.938898e+00  4.649388e+00   15324.638504\n",
              "std    1.727058e+02  1.235531e+02    1697.464450\n",
              "min   -8.099500e+04 -5.359436e+04   12346.000000\n",
              "25%    1.000000e+00  1.250000e+00   13975.000000\n",
              "50%    3.000000e+00  2.100000e+00   15255.000000\n",
              "75%    1.000000e+01  4.150000e+00   16797.000000\n",
              "max    8.099500e+04  3.897000e+04   18287.000000"
            ],
            "text/html": [
              "\n",
              "  <div id=\"df-900151dc-f1bb-45b7-961e-a4e9ece0c50d\" class=\"colab-df-container\">\n",
              "    <div>\n",
              "<style scoped>\n",
              "    .dataframe tbody tr th:only-of-type {\n",
              "        vertical-align: middle;\n",
              "    }\n",
              "\n",
              "    .dataframe tbody tr th {\n",
              "        vertical-align: top;\n",
              "    }\n",
              "\n",
              "    .dataframe thead th {\n",
              "        text-align: right;\n",
              "    }\n",
              "</style>\n",
              "<table border=\"1\" class=\"dataframe\">\n",
              "  <thead>\n",
              "    <tr style=\"text-align: right;\">\n",
              "      <th></th>\n",
              "      <th>Quantity</th>\n",
              "      <th>Price</th>\n",
              "      <th>Customer ID</th>\n",
              "    </tr>\n",
              "  </thead>\n",
              "  <tbody>\n",
              "    <tr>\n",
              "      <th>count</th>\n",
              "      <td>1.067371e+06</td>\n",
              "      <td>1.067371e+06</td>\n",
              "      <td>824364.000000</td>\n",
              "    </tr>\n",
              "    <tr>\n",
              "      <th>mean</th>\n",
              "      <td>9.938898e+00</td>\n",
              "      <td>4.649388e+00</td>\n",
              "      <td>15324.638504</td>\n",
              "    </tr>\n",
              "    <tr>\n",
              "      <th>std</th>\n",
              "      <td>1.727058e+02</td>\n",
              "      <td>1.235531e+02</td>\n",
              "      <td>1697.464450</td>\n",
              "    </tr>\n",
              "    <tr>\n",
              "      <th>min</th>\n",
              "      <td>-8.099500e+04</td>\n",
              "      <td>-5.359436e+04</td>\n",
              "      <td>12346.000000</td>\n",
              "    </tr>\n",
              "    <tr>\n",
              "      <th>25%</th>\n",
              "      <td>1.000000e+00</td>\n",
              "      <td>1.250000e+00</td>\n",
              "      <td>13975.000000</td>\n",
              "    </tr>\n",
              "    <tr>\n",
              "      <th>50%</th>\n",
              "      <td>3.000000e+00</td>\n",
              "      <td>2.100000e+00</td>\n",
              "      <td>15255.000000</td>\n",
              "    </tr>\n",
              "    <tr>\n",
              "      <th>75%</th>\n",
              "      <td>1.000000e+01</td>\n",
              "      <td>4.150000e+00</td>\n",
              "      <td>16797.000000</td>\n",
              "    </tr>\n",
              "    <tr>\n",
              "      <th>max</th>\n",
              "      <td>8.099500e+04</td>\n",
              "      <td>3.897000e+04</td>\n",
              "      <td>18287.000000</td>\n",
              "    </tr>\n",
              "  </tbody>\n",
              "</table>\n",
              "</div>\n",
              "    <div class=\"colab-df-buttons\">\n",
              "\n",
              "  <div class=\"colab-df-container\">\n",
              "    <button class=\"colab-df-convert\" onclick=\"convertToInteractive('df-900151dc-f1bb-45b7-961e-a4e9ece0c50d')\"\n",
              "            title=\"Convert this dataframe to an interactive table.\"\n",
              "            style=\"display:none;\">\n",
              "\n",
              "  <svg xmlns=\"http://www.w3.org/2000/svg\" height=\"24px\" viewBox=\"0 -960 960 960\">\n",
              "    <path d=\"M120-120v-720h720v720H120Zm60-500h600v-160H180v160Zm220 220h160v-160H400v160Zm0 220h160v-160H400v160ZM180-400h160v-160H180v160Zm440 0h160v-160H620v160ZM180-180h160v-160H180v160Zm440 0h160v-160H620v160Z\"/>\n",
              "  </svg>\n",
              "    </button>\n",
              "\n",
              "  <style>\n",
              "    .colab-df-container {\n",
              "      display:flex;\n",
              "      gap: 12px;\n",
              "    }\n",
              "\n",
              "    .colab-df-convert {\n",
              "      background-color: #E8F0FE;\n",
              "      border: none;\n",
              "      border-radius: 50%;\n",
              "      cursor: pointer;\n",
              "      display: none;\n",
              "      fill: #1967D2;\n",
              "      height: 32px;\n",
              "      padding: 0 0 0 0;\n",
              "      width: 32px;\n",
              "    }\n",
              "\n",
              "    .colab-df-convert:hover {\n",
              "      background-color: #E2EBFA;\n",
              "      box-shadow: 0px 1px 2px rgba(60, 64, 67, 0.3), 0px 1px 3px 1px rgba(60, 64, 67, 0.15);\n",
              "      fill: #174EA6;\n",
              "    }\n",
              "\n",
              "    .colab-df-buttons div {\n",
              "      margin-bottom: 4px;\n",
              "    }\n",
              "\n",
              "    [theme=dark] .colab-df-convert {\n",
              "      background-color: #3B4455;\n",
              "      fill: #D2E3FC;\n",
              "    }\n",
              "\n",
              "    [theme=dark] .colab-df-convert:hover {\n",
              "      background-color: #434B5C;\n",
              "      box-shadow: 0px 1px 3px 1px rgba(0, 0, 0, 0.15);\n",
              "      filter: drop-shadow(0px 1px 2px rgba(0, 0, 0, 0.3));\n",
              "      fill: #FFFFFF;\n",
              "    }\n",
              "  </style>\n",
              "\n",
              "    <script>\n",
              "      const buttonEl =\n",
              "        document.querySelector('#df-900151dc-f1bb-45b7-961e-a4e9ece0c50d button.colab-df-convert');\n",
              "      buttonEl.style.display =\n",
              "        google.colab.kernel.accessAllowed ? 'block' : 'none';\n",
              "\n",
              "      async function convertToInteractive(key) {\n",
              "        const element = document.querySelector('#df-900151dc-f1bb-45b7-961e-a4e9ece0c50d');\n",
              "        const dataTable =\n",
              "          await google.colab.kernel.invokeFunction('convertToInteractive',\n",
              "                                                    [key], {});\n",
              "        if (!dataTable) return;\n",
              "\n",
              "        const docLinkHtml = 'Like what you see? Visit the ' +\n",
              "          '<a target=\"_blank\" href=https://colab.research.google.com/notebooks/data_table.ipynb>data table notebook</a>'\n",
              "          + ' to learn more about interactive tables.';\n",
              "        element.innerHTML = '';\n",
              "        dataTable['output_type'] = 'display_data';\n",
              "        await google.colab.output.renderOutput(dataTable, element);\n",
              "        const docLink = document.createElement('div');\n",
              "        docLink.innerHTML = docLinkHtml;\n",
              "        element.appendChild(docLink);\n",
              "      }\n",
              "    </script>\n",
              "  </div>\n",
              "\n",
              "\n",
              "    <div id=\"df-7714b6ae-f306-4356-8857-a8328bcb67fe\">\n",
              "      <button class=\"colab-df-quickchart\" onclick=\"quickchart('df-7714b6ae-f306-4356-8857-a8328bcb67fe')\"\n",
              "                title=\"Suggest charts\"\n",
              "                style=\"display:none;\">\n",
              "\n",
              "<svg xmlns=\"http://www.w3.org/2000/svg\" height=\"24px\"viewBox=\"0 0 24 24\"\n",
              "     width=\"24px\">\n",
              "    <g>\n",
              "        <path d=\"M19 3H5c-1.1 0-2 .9-2 2v14c0 1.1.9 2 2 2h14c1.1 0 2-.9 2-2V5c0-1.1-.9-2-2-2zM9 17H7v-7h2v7zm4 0h-2V7h2v10zm4 0h-2v-4h2v4z\"/>\n",
              "    </g>\n",
              "</svg>\n",
              "      </button>\n",
              "\n",
              "<style>\n",
              "  .colab-df-quickchart {\n",
              "      --bg-color: #E8F0FE;\n",
              "      --fill-color: #1967D2;\n",
              "      --hover-bg-color: #E2EBFA;\n",
              "      --hover-fill-color: #174EA6;\n",
              "      --disabled-fill-color: #AAA;\n",
              "      --disabled-bg-color: #DDD;\n",
              "  }\n",
              "\n",
              "  [theme=dark] .colab-df-quickchart {\n",
              "      --bg-color: #3B4455;\n",
              "      --fill-color: #D2E3FC;\n",
              "      --hover-bg-color: #434B5C;\n",
              "      --hover-fill-color: #FFFFFF;\n",
              "      --disabled-bg-color: #3B4455;\n",
              "      --disabled-fill-color: #666;\n",
              "  }\n",
              "\n",
              "  .colab-df-quickchart {\n",
              "    background-color: var(--bg-color);\n",
              "    border: none;\n",
              "    border-radius: 50%;\n",
              "    cursor: pointer;\n",
              "    display: none;\n",
              "    fill: var(--fill-color);\n",
              "    height: 32px;\n",
              "    padding: 0;\n",
              "    width: 32px;\n",
              "  }\n",
              "\n",
              "  .colab-df-quickchart:hover {\n",
              "    background-color: var(--hover-bg-color);\n",
              "    box-shadow: 0 1px 2px rgba(60, 64, 67, 0.3), 0 1px 3px 1px rgba(60, 64, 67, 0.15);\n",
              "    fill: var(--button-hover-fill-color);\n",
              "  }\n",
              "\n",
              "  .colab-df-quickchart-complete:disabled,\n",
              "  .colab-df-quickchart-complete:disabled:hover {\n",
              "    background-color: var(--disabled-bg-color);\n",
              "    fill: var(--disabled-fill-color);\n",
              "    box-shadow: none;\n",
              "  }\n",
              "\n",
              "  .colab-df-spinner {\n",
              "    border: 2px solid var(--fill-color);\n",
              "    border-color: transparent;\n",
              "    border-bottom-color: var(--fill-color);\n",
              "    animation:\n",
              "      spin 1s steps(1) infinite;\n",
              "  }\n",
              "\n",
              "  @keyframes spin {\n",
              "    0% {\n",
              "      border-color: transparent;\n",
              "      border-bottom-color: var(--fill-color);\n",
              "      border-left-color: var(--fill-color);\n",
              "    }\n",
              "    20% {\n",
              "      border-color: transparent;\n",
              "      border-left-color: var(--fill-color);\n",
              "      border-top-color: var(--fill-color);\n",
              "    }\n",
              "    30% {\n",
              "      border-color: transparent;\n",
              "      border-left-color: var(--fill-color);\n",
              "      border-top-color: var(--fill-color);\n",
              "      border-right-color: var(--fill-color);\n",
              "    }\n",
              "    40% {\n",
              "      border-color: transparent;\n",
              "      border-right-color: var(--fill-color);\n",
              "      border-top-color: var(--fill-color);\n",
              "    }\n",
              "    60% {\n",
              "      border-color: transparent;\n",
              "      border-right-color: var(--fill-color);\n",
              "    }\n",
              "    80% {\n",
              "      border-color: transparent;\n",
              "      border-right-color: var(--fill-color);\n",
              "      border-bottom-color: var(--fill-color);\n",
              "    }\n",
              "    90% {\n",
              "      border-color: transparent;\n",
              "      border-bottom-color: var(--fill-color);\n",
              "    }\n",
              "  }\n",
              "</style>\n",
              "\n",
              "      <script>\n",
              "        async function quickchart(key) {\n",
              "          const quickchartButtonEl =\n",
              "            document.querySelector('#' + key + ' button');\n",
              "          quickchartButtonEl.disabled = true;  // To prevent multiple clicks.\n",
              "          quickchartButtonEl.classList.add('colab-df-spinner');\n",
              "          try {\n",
              "            const charts = await google.colab.kernel.invokeFunction(\n",
              "                'suggestCharts', [key], {});\n",
              "          } catch (error) {\n",
              "            console.error('Error during call to suggestCharts:', error);\n",
              "          }\n",
              "          quickchartButtonEl.classList.remove('colab-df-spinner');\n",
              "          quickchartButtonEl.classList.add('colab-df-quickchart-complete');\n",
              "        }\n",
              "        (() => {\n",
              "          let quickchartButtonEl =\n",
              "            document.querySelector('#df-7714b6ae-f306-4356-8857-a8328bcb67fe button');\n",
              "          quickchartButtonEl.style.display =\n",
              "            google.colab.kernel.accessAllowed ? 'block' : 'none';\n",
              "        })();\n",
              "      </script>\n",
              "    </div>\n",
              "\n",
              "    </div>\n",
              "  </div>\n"
            ],
            "application/vnd.google.colaboratory.intrinsic+json": {
              "type": "dataframe",
              "summary": "{\n  \"name\": \"df\",\n  \"rows\": 8,\n  \"fields\": [\n    {\n      \"column\": \"Quantity\",\n      \"properties\": {\n        \"dtype\": \"number\",\n        \"std\": 379838.0627184195,\n        \"min\": -80995.0,\n        \"max\": 1067371.0,\n        \"num_unique_values\": 8,\n        \"samples\": [\n          9.9388984711033,\n          3.0,\n          1067371.0\n        ],\n        \"semantic_type\": \"\",\n        \"description\": \"\"\n      }\n    },\n    {\n      \"column\": \"Price\",\n      \"properties\": {\n        \"dtype\": \"number\",\n        \"std\": 378927.38277095853,\n        \"min\": -53594.36,\n        \"max\": 1067371.0,\n        \"num_unique_values\": 8,\n        \"samples\": [\n          4.649387727416239,\n          2.1,\n          1067371.0\n        ],\n        \"semantic_type\": \"\",\n        \"description\": \"\"\n      }\n    },\n    {\n      \"column\": \"Customer ID\",\n      \"properties\": {\n        \"dtype\": \"number\",\n        \"std\": 286770.10266489815,\n        \"min\": 1697.464450379087,\n        \"max\": 824364.0,\n        \"num_unique_values\": 8,\n        \"samples\": [\n          15324.63850435002,\n          15255.0,\n          824364.0\n        ],\n        \"semantic_type\": \"\",\n        \"description\": \"\"\n      }\n    }\n  ]\n}"
            }
          },
          "metadata": {},
          "execution_count": 4
        }
      ]
    },
    {
      "cell_type": "code",
      "source": [
        "df.dropna(subset=['Customer ID'], inplace=True)\n",
        "# Verifiquemos si los nulos se eliminaron\n",
        "print(df.isnull().sum())"
      ],
      "metadata": {
        "colab": {
          "base_uri": "https://localhost:8080/"
        },
        "id": "4u6d3pXV_xAr",
        "outputId": "18203fb3-07eb-4649-bec9-a8b2472dde93"
      },
      "execution_count": null,
      "outputs": [
        {
          "output_type": "stream",
          "name": "stdout",
          "text": [
            "Invoice        0\n",
            "StockCode      0\n",
            "Description    0\n",
            "Quantity       0\n",
            "InvoiceDate    0\n",
            "Price          0\n",
            "Customer ID    0\n",
            "Country        0\n",
            "dtype: int64\n"
          ]
        }
      ]
    },
    {
      "cell_type": "markdown",
      "source": [
        "# Manejo de Devoluciones\n",
        "Las transacciones con Quantity y Price negativas son devoluciones o datos anómalos. Para el análisis RFM inicial, nos centraremos en las ventas."
      ],
      "metadata": {
        "id": "nNO5OSVTBIp5"
      }
    },
    {
      "cell_type": "code",
      "source": [
        "df = df[(df['Quantity'] > 0) & (df['Price'] > 0)]"
      ],
      "metadata": {
        "id": "psKFO8Y7AqwH"
      },
      "execution_count": null,
      "outputs": []
    },
    {
      "cell_type": "markdown",
      "source": [
        "La columna InvoiceDate debe ser un tipo de dato datetime para poder trabajar con ella de forma eficiente."
      ],
      "metadata": {
        "id": "SDhfTWR6BZ0O"
      }
    },
    {
      "cell_type": "code",
      "source": [
        "df['InvoiceDate'] = pd.to_datetime(df['InvoiceDate'])"
      ],
      "metadata": {
        "id": "GekMQ4tLBa9Y"
      },
      "execution_count": null,
      "outputs": []
    },
    {
      "cell_type": "markdown",
      "source": [
        "# Cálculo de TotalPrice\n",
        "Esta es una columna esencial para el análisis monetario. La crearemos multiplicando Quantity por Price."
      ],
      "metadata": {
        "id": "sAHL9oNaBj2h"
      }
    },
    {
      "cell_type": "code",
      "source": [
        "df['TotalPrice'] = df['Quantity'] * df['Price']"
      ],
      "metadata": {
        "id": "0bLFtvtABm3b"
      },
      "execution_count": null,
      "outputs": []
    },
    {
      "cell_type": "code",
      "source": [
        "print(df.describe())\n",
        "print(df.info())"
      ],
      "metadata": {
        "colab": {
          "base_uri": "https://localhost:8080/"
        },
        "id": "IdvfGDjjBqkx",
        "outputId": "d48d90b0-2d80-408b-9481-a1997a2f6017"
      },
      "execution_count": null,
      "outputs": [
        {
          "output_type": "stream",
          "name": "stdout",
          "text": [
            "            Quantity                    InvoiceDate          Price  \\\n",
            "count  805549.000000                         805549  805549.000000   \n",
            "mean       13.290522  2011-01-02 10:24:44.106814464       3.206561   \n",
            "min         1.000000            2009-12-01 07:45:00       0.001000   \n",
            "25%         2.000000            2010-07-07 12:08:00       1.250000   \n",
            "50%         5.000000            2010-12-03 15:10:00       1.950000   \n",
            "75%        12.000000            2011-07-28 13:05:00       3.750000   \n",
            "max     80995.000000            2011-12-09 12:50:00   10953.500000   \n",
            "std       143.634088                            NaN      29.199173   \n",
            "\n",
            "         Customer ID     TotalPrice  \n",
            "count  805549.000000  805549.000000  \n",
            "mean    15331.954970      22.026505  \n",
            "min     12346.000000       0.001000  \n",
            "25%     13982.000000       4.950000  \n",
            "50%     15271.000000      11.850000  \n",
            "75%     16805.000000      19.500000  \n",
            "max     18287.000000  168469.600000  \n",
            "std      1696.737039     224.041928  \n",
            "<class 'pandas.core.frame.DataFrame'>\n",
            "Index: 805549 entries, 0 to 1067370\n",
            "Data columns (total 9 columns):\n",
            " #   Column       Non-Null Count   Dtype         \n",
            "---  ------       --------------   -----         \n",
            " 0   Invoice      805549 non-null  object        \n",
            " 1   StockCode    805549 non-null  object        \n",
            " 2   Description  805549 non-null  object        \n",
            " 3   Quantity     805549 non-null  int64         \n",
            " 4   InvoiceDate  805549 non-null  datetime64[ns]\n",
            " 5   Price        805549 non-null  float64       \n",
            " 6   Customer ID  805549 non-null  float64       \n",
            " 7   Country      805549 non-null  object        \n",
            " 8   TotalPrice   805549 non-null  float64       \n",
            "dtypes: datetime64[ns](1), float64(3), int64(1), object(4)\n",
            "memory usage: 61.5+ MB\n",
            "None\n"
          ]
        }
      ]
    },
    {
      "cell_type": "code",
      "source": [
        "# 1. Calcular la fecha de referencia\n",
        "# Encontramos la fecha máxima en el dataset y le sumamos un día\n",
        "import datetime\n",
        "snapshot_date = df['InvoiceDate'].max() + datetime.timedelta(days=1)\n",
        "print(f\"La fecha de referencia es: {snapshot_date}\")\n",
        "\n",
        "# 2. Agrupar por CustomerID para calcular RFM\n",
        "rfm = df.groupby('Customer ID').agg({\n",
        "    'InvoiceDate': lambda date: (snapshot_date - date.max()).days,\n",
        "    'Invoice': 'nunique',\n",
        "    'TotalPrice': 'sum'\n",
        "})\n",
        "\n",
        "# 3. Renombrar las columnas para mayor claridad\n",
        "rfm.columns = ['Recency', 'Frequency', 'Monetary']\n",
        "\n",
        "# 4. Mostrar el resultado de los primeros 5 clientes\n",
        "print(rfm.head())"
      ],
      "metadata": {
        "colab": {
          "base_uri": "https://localhost:8080/"
        },
        "id": "fRjkKRwtP6pu",
        "outputId": "7bc6e362-5c88-458c-a110-d22421c3264c"
      },
      "execution_count": null,
      "outputs": [
        {
          "output_type": "stream",
          "name": "stdout",
          "text": [
            "La fecha de referencia es: 2011-12-10 12:50:00\n",
            "             Recency  Frequency  Monetary\n",
            "Customer ID                              \n",
            "12346.0          326         12  77556.46\n",
            "12347.0            2          8   5633.32\n",
            "12348.0           75          5   2019.40\n",
            "12349.0           19          4   4428.69\n",
            "12350.0          310          1    334.40\n"
          ]
        }
      ]
    },
    {
      "cell_type": "code",
      "source": [
        "# Crea las puntuaciones de R, F y M usando qcut y eliminando duplicados\n",
        "rfm['R_Score'] = pd.qcut(rfm['Recency'], 4, labels=[4, 3, 2, 1], duplicates='drop')\n",
        "rfm['F_Score'] = pd.qcut(rfm['Frequency'], 4, labels=False, duplicates='drop')\n",
        "rfm['M_Score'] = pd.qcut(rfm['Monetary'], 4, labels=False, duplicates='drop')\n",
        "\n",
        "# Renombramos las etiquetas para que sean 1, 2, 3, 4, etc.\n",
        "# Nota: pd.qcut con labels=False devuelve etiquetas del 0 al 3.\n",
        "rfm['F_Score'] = rfm['F_Score'] + 1\n",
        "rfm['M_Score'] = rfm['M_Score'] + 1\n",
        "\n",
        "# Une las puntuaciones para crear el segmento RFM\n",
        "rfm['RFM_Score'] = rfm['R_Score'].astype(str) + rfm['F_Score'].astype(str) + rfm['M_Score'].astype(str)\n",
        "\n",
        "print(rfm.head())"
      ],
      "metadata": {
        "colab": {
          "base_uri": "https://localhost:8080/"
        },
        "id": "DLyJ2S_AQOTV",
        "outputId": "08d9812c-da33-4b0b-9c6d-2971899acd69"
      },
      "execution_count": null,
      "outputs": [
        {
          "output_type": "stream",
          "name": "stdout",
          "text": [
            "             Recency  Frequency  Monetary R_Score  F_Score  M_Score RFM_Score\n",
            "Customer ID                                                                  \n",
            "12346.0          326         12  77556.46       2        3        4       234\n",
            "12347.0            2          8   5633.32       4        3        4       434\n",
            "12348.0           75          5   2019.40       3        2        3       323\n",
            "12349.0           19          4   4428.69       4        2        4       424\n",
            "12350.0          310          1    334.40       2        1        1       211\n"
          ]
        }
      ]
    },
    {
      "cell_type": "code",
      "source": [
        "# Crea una función para asignar nombres a los segmentos\n",
        "def segment_customers(rfm_score):\n",
        "    if rfm_score == '444':\n",
        "        return 'Champions'\n",
        "    elif rfm_score in ['443', '434', '344', '334', '343', '433']:\n",
        "        return 'Loyal Customers'\n",
        "    elif rfm_score in ['411', '311', '412', '312']:\n",
        "        return 'New Customers'\n",
        "    elif rfm_score in ['222', '221', '212', '122', '112', '121', '211']:\n",
        "        return 'At Risk'\n",
        "    elif rfm_score in ['111']:\n",
        "        return 'Lost Customers'\n",
        "    else:\n",
        "        return 'Others'\n",
        "\n",
        "# Aplica la función para crear la nueva columna 'Segment'\n",
        "rfm['Segment'] = rfm['RFM_Score'].apply(segment_customers)\n",
        "\n",
        "# Muestra el recuento de clientes por segmento\n",
        "print(rfm['Segment'].value_counts())"
      ],
      "metadata": {
        "colab": {
          "base_uri": "https://localhost:8080/"
        },
        "id": "rhicydZyRQTc",
        "outputId": "b97b7fd3-43df-417e-ab13-f4417a0e9ddd"
      },
      "execution_count": null,
      "outputs": [
        {
          "output_type": "stream",
          "name": "stdout",
          "text": [
            "Segment\n",
            "Others             2065\n",
            "At Risk            1259\n",
            "Loyal Customers    1032\n",
            "New Customers       783\n",
            "Lost Customers      739\n",
            "Name: count, dtype: int64\n"
          ]
        }
      ]
    },
    {
      "cell_type": "code",
      "source": [
        "# Une las tablas de RFM y el dataframe original por 'Customer ID'\n",
        "df_merged = df.merge(rfm, on='Customer ID')\n",
        "\n",
        "# Filtra por el segmento 'At Risk'\n",
        "at_risk_df = df_merged[df_merged['Segment'] == 'At Risk']\n",
        "\n",
        "# Encuentra los 10 productos más comprados por este segmento\n",
        "top_products_at_risk = at_risk_df['Description'].value_counts().head(10)\n",
        "print(top_products_at_risk)"
      ],
      "metadata": {
        "colab": {
          "base_uri": "https://localhost:8080/"
        },
        "id": "y8F2ddW3GTbj",
        "outputId": "c0931774-d30f-4ede-ede9-7f810340bdc8"
      },
      "execution_count": null,
      "outputs": [
        {
          "output_type": "stream",
          "name": "stdout",
          "text": [
            "Description\n",
            "WHITE HANGING HEART T-LIGHT HOLDER    321\n",
            "REX CASH+CARRY JUMBO SHOPPER          222\n",
            "REGENCY CAKESTAND 3 TIER              200\n",
            "ASSORTED COLOUR BIRD ORNAMENT         168\n",
            "BAKING SET 9 PIECE RETROSPOT          164\n",
            "STRAWBERRY CERAMIC TRINKET BOX        129\n",
            "HEART OF WICKER SMALL                 123\n",
            "PARTY BUNTING                         123\n",
            "HEART OF WICKER LARGE                 120\n",
            "60 TEATIME FAIRY CAKE CASES           112\n",
            "Name: count, dtype: int64\n"
          ]
        }
      ]
    },
    {
      "cell_type": "code",
      "source": [
        "# Filtra por el segmento 'Loyal Customers'\n",
        "loyal_df = df_merged[df_merged['Segment'] == 'Loyal Customers']\n",
        "\n",
        "# Encuentra los 10 productos más comprados por este segmento\n",
        "top_products_loyal = loyal_df['Description'].value_counts().head(10)\n",
        "print(top_products_loyal)"
      ],
      "metadata": {
        "colab": {
          "base_uri": "https://localhost:8080/"
        },
        "id": "UdKFDyD_Safk",
        "outputId": "50cb1eee-3303-46e5-93cd-48b6f9708872"
      },
      "execution_count": null,
      "outputs": [
        {
          "output_type": "stream",
          "name": "stdout",
          "text": [
            "Description\n",
            "WHITE HANGING HEART T-LIGHT HOLDER    2912\n",
            "REGENCY CAKESTAND 3 TIER              2032\n",
            "JUMBO BAG RED RETROSPOT               1907\n",
            "ASSORTED COLOUR BIRD ORNAMENT         1554\n",
            "LUNCH BAG  BLACK SKULL.               1467\n",
            "PARTY BUNTING                         1317\n",
            "LUNCH BAG CARS BLUE                   1266\n",
            "LUNCH BAG SPACEBOY DESIGN             1247\n",
            "JUMBO STORAGE BAG SUKI                1228\n",
            "JUMBO SHOPPER VINTAGE RED PAISLEY     1198\n",
            "Name: count, dtype: int64\n"
          ]
        }
      ]
    },
    {
      "cell_type": "code",
      "source": [
        "# Guarda el DataFrame 'rfm'\n",
        "rfm.to_csv('rfm_segmentation.csv', index=True)\n",
        "\n",
        "# Guarda el DataFrame 'df_merged'\n",
        "df_merged.to_csv('df_merged_with_segments.csv', index=False)"
      ],
      "metadata": {
        "id": "y1-J9QVnTINE"
      },
      "execution_count": null,
      "outputs": []
    },
    {
      "cell_type": "markdown",
      "source": [
        "# Visualizaciones"
      ],
      "metadata": {
        "id": "nc2Ut7zBUbAJ"
      }
    },
    {
      "cell_type": "code",
      "source": [
        "!pip install streamlit pyngrok"
      ],
      "metadata": {
        "colab": {
          "base_uri": "https://localhost:8080/"
        },
        "id": "o2RmBt3GW934",
        "outputId": "9021a474-8ff1-4c24-e802-93fa2a5df2d6"
      },
      "execution_count": null,
      "outputs": [
        {
          "output_type": "stream",
          "name": "stdout",
          "text": [
            "Collecting streamlit\n",
            "  Downloading streamlit-1.47.1-py3-none-any.whl.metadata (9.0 kB)\n",
            "Collecting pyngrok\n",
            "  Downloading pyngrok-7.3.0-py3-none-any.whl.metadata (8.1 kB)\n",
            "Requirement already satisfied: altair<6,>=4.0 in /usr/local/lib/python3.11/dist-packages (from streamlit) (5.5.0)\n",
            "Requirement already satisfied: blinker<2,>=1.5.0 in /usr/local/lib/python3.11/dist-packages (from streamlit) (1.9.0)\n",
            "Requirement already satisfied: cachetools<7,>=4.0 in /usr/local/lib/python3.11/dist-packages (from streamlit) (5.5.2)\n",
            "Requirement already satisfied: click<9,>=7.0 in /usr/local/lib/python3.11/dist-packages (from streamlit) (8.2.1)\n",
            "Requirement already satisfied: numpy<3,>=1.23 in /usr/local/lib/python3.11/dist-packages (from streamlit) (2.0.2)\n",
            "Requirement already satisfied: packaging<26,>=20 in /usr/local/lib/python3.11/dist-packages (from streamlit) (25.0)\n",
            "Requirement already satisfied: pandas<3,>=1.4.0 in /usr/local/lib/python3.11/dist-packages (from streamlit) (2.2.2)\n",
            "Requirement already satisfied: pillow<12,>=7.1.0 in /usr/local/lib/python3.11/dist-packages (from streamlit) (11.3.0)\n",
            "Requirement already satisfied: protobuf<7,>=3.20 in /usr/local/lib/python3.11/dist-packages (from streamlit) (5.29.5)\n",
            "Requirement already satisfied: pyarrow>=7.0 in /usr/local/lib/python3.11/dist-packages (from streamlit) (18.1.0)\n",
            "Requirement already satisfied: requests<3,>=2.27 in /usr/local/lib/python3.11/dist-packages (from streamlit) (2.32.3)\n",
            "Requirement already satisfied: tenacity<10,>=8.1.0 in /usr/local/lib/python3.11/dist-packages (from streamlit) (8.5.0)\n",
            "Requirement already satisfied: toml<2,>=0.10.1 in /usr/local/lib/python3.11/dist-packages (from streamlit) (0.10.2)\n",
            "Requirement already satisfied: typing-extensions<5,>=4.4.0 in /usr/local/lib/python3.11/dist-packages (from streamlit) (4.14.1)\n",
            "Collecting watchdog<7,>=2.1.5 (from streamlit)\n",
            "  Downloading watchdog-6.0.0-py3-none-manylinux2014_x86_64.whl.metadata (44 kB)\n",
            "\u001b[2K     \u001b[90m━━━━━━━━━━━━━━━━━━━━━━━━━━━━━━━━━━━━━━━━\u001b[0m \u001b[32m44.3/44.3 kB\u001b[0m \u001b[31m1.8 MB/s\u001b[0m eta \u001b[36m0:00:00\u001b[0m\n",
            "\u001b[?25hRequirement already satisfied: gitpython!=3.1.19,<4,>=3.0.7 in /usr/local/lib/python3.11/dist-packages (from streamlit) (3.1.45)\n",
            "Collecting pydeck<1,>=0.8.0b4 (from streamlit)\n",
            "  Downloading pydeck-0.9.1-py2.py3-none-any.whl.metadata (4.1 kB)\n",
            "Requirement already satisfied: tornado!=6.5.0,<7,>=6.0.3 in /usr/local/lib/python3.11/dist-packages (from streamlit) (6.4.2)\n",
            "Requirement already satisfied: PyYAML>=5.1 in /usr/local/lib/python3.11/dist-packages (from pyngrok) (6.0.2)\n",
            "Requirement already satisfied: jinja2 in /usr/local/lib/python3.11/dist-packages (from altair<6,>=4.0->streamlit) (3.1.6)\n",
            "Requirement already satisfied: jsonschema>=3.0 in /usr/local/lib/python3.11/dist-packages (from altair<6,>=4.0->streamlit) (4.25.0)\n",
            "Requirement already satisfied: narwhals>=1.14.2 in /usr/local/lib/python3.11/dist-packages (from altair<6,>=4.0->streamlit) (1.48.1)\n",
            "Requirement already satisfied: gitdb<5,>=4.0.1 in /usr/local/lib/python3.11/dist-packages (from gitpython!=3.1.19,<4,>=3.0.7->streamlit) (4.0.12)\n",
            "Requirement already satisfied: python-dateutil>=2.8.2 in /usr/local/lib/python3.11/dist-packages (from pandas<3,>=1.4.0->streamlit) (2.9.0.post0)\n",
            "Requirement already satisfied: pytz>=2020.1 in /usr/local/lib/python3.11/dist-packages (from pandas<3,>=1.4.0->streamlit) (2025.2)\n",
            "Requirement already satisfied: tzdata>=2022.7 in /usr/local/lib/python3.11/dist-packages (from pandas<3,>=1.4.0->streamlit) (2025.2)\n",
            "Requirement already satisfied: charset-normalizer<4,>=2 in /usr/local/lib/python3.11/dist-packages (from requests<3,>=2.27->streamlit) (3.4.2)\n",
            "Requirement already satisfied: idna<4,>=2.5 in /usr/local/lib/python3.11/dist-packages (from requests<3,>=2.27->streamlit) (3.10)\n",
            "Requirement already satisfied: urllib3<3,>=1.21.1 in /usr/local/lib/python3.11/dist-packages (from requests<3,>=2.27->streamlit) (2.5.0)\n",
            "Requirement already satisfied: certifi>=2017.4.17 in /usr/local/lib/python3.11/dist-packages (from requests<3,>=2.27->streamlit) (2025.7.14)\n",
            "Requirement already satisfied: smmap<6,>=3.0.1 in /usr/local/lib/python3.11/dist-packages (from gitdb<5,>=4.0.1->gitpython!=3.1.19,<4,>=3.0.7->streamlit) (5.0.2)\n",
            "Requirement already satisfied: MarkupSafe>=2.0 in /usr/local/lib/python3.11/dist-packages (from jinja2->altair<6,>=4.0->streamlit) (3.0.2)\n",
            "Requirement already satisfied: attrs>=22.2.0 in /usr/local/lib/python3.11/dist-packages (from jsonschema>=3.0->altair<6,>=4.0->streamlit) (25.3.0)\n",
            "Requirement already satisfied: jsonschema-specifications>=2023.03.6 in /usr/local/lib/python3.11/dist-packages (from jsonschema>=3.0->altair<6,>=4.0->streamlit) (2025.4.1)\n",
            "Requirement already satisfied: referencing>=0.28.4 in /usr/local/lib/python3.11/dist-packages (from jsonschema>=3.0->altair<6,>=4.0->streamlit) (0.36.2)\n",
            "Requirement already satisfied: rpds-py>=0.7.1 in /usr/local/lib/python3.11/dist-packages (from jsonschema>=3.0->altair<6,>=4.0->streamlit) (0.26.0)\n",
            "Requirement already satisfied: six>=1.5 in /usr/local/lib/python3.11/dist-packages (from python-dateutil>=2.8.2->pandas<3,>=1.4.0->streamlit) (1.17.0)\n",
            "Downloading streamlit-1.47.1-py3-none-any.whl (9.9 MB)\n",
            "\u001b[2K   \u001b[90m━━━━━━━━━━━━━━━━━━━━━━━━━━━━━━━━━━━━━━━━\u001b[0m \u001b[32m9.9/9.9 MB\u001b[0m \u001b[31m58.5 MB/s\u001b[0m eta \u001b[36m0:00:00\u001b[0m\n",
            "\u001b[?25hDownloading pyngrok-7.3.0-py3-none-any.whl (25 kB)\n",
            "Downloading pydeck-0.9.1-py2.py3-none-any.whl (6.9 MB)\n",
            "\u001b[2K   \u001b[90m━━━━━━━━━━━━━━━━━━━━━━━━━━━━━━━━━━━━━━━━\u001b[0m \u001b[32m6.9/6.9 MB\u001b[0m \u001b[31m68.1 MB/s\u001b[0m eta \u001b[36m0:00:00\u001b[0m\n",
            "\u001b[?25hDownloading watchdog-6.0.0-py3-none-manylinux2014_x86_64.whl (79 kB)\n",
            "\u001b[2K   \u001b[90m━━━━━━━━━━━━━━━━━━━━━━━━━━━━━━━━━━━━━━━━\u001b[0m \u001b[32m79.1/79.1 kB\u001b[0m \u001b[31m4.8 MB/s\u001b[0m eta \u001b[36m0:00:00\u001b[0m\n",
            "\u001b[?25hInstalling collected packages: watchdog, pyngrok, pydeck, streamlit\n",
            "Successfully installed pydeck-0.9.1 pyngrok-7.3.0 streamlit-1.47.1 watchdog-6.0.0\n"
          ]
        }
      ]
    },
    {
      "cell_type": "code",
      "source": [
        "df_rfm = pd.read_csv('rfm_segmentation.csv', index_col='Customer ID')\n",
        "df_merged = pd.read_csv('df_merged_with_segments.csv')"
      ],
      "metadata": {
        "id": "et9-yvrlUf-t"
      },
      "execution_count": null,
      "outputs": []
    },
    {
      "cell_type": "code",
      "source": [
        "from pyngrok import ngrok\n",
        "ngrok.set_auth_token(\"PON AQUÍ TU TOKEN")"
      ],
      "metadata": {
        "id": "h0wwKqxlXV7O",
        "colab": {
          "base_uri": "https://localhost:8080/"
        },
        "outputId": "871ceafe-44b9-434b-e166-d83cdff0a419"
      },
      "execution_count": null,
      "outputs": [
        {
          "output_type": "stream",
          "name": "stdout",
          "text": []
        }
      ]
    },
    {
      "cell_type": "code",
      "source": [
        "%%writefile app.py\n",
        "import streamlit as st\n",
        "import pandas as pd\n",
        "import plotly.express as px\n",
        "import plotly.graph_objects as go\n",
        "from mlxtend.frequent_patterns import apriori, association_rules\n",
        "\n",
        "# --- Configuración de la página ---\n",
        "st.set_page_config(\n",
        "    page_title=\"Análisis de Clientes RFM\",\n",
        "    page_icon=\"📈\",\n",
        "    layout=\"wide\"\n",
        ")\n",
        "\n",
        "# --- Título y Resumen ---\n",
        "st.title(\"📈 Análisis del Comportamiento del Cliente y Oportunidades de Crecimiento\")\n",
        "st.markdown(\"\"\"\n",
        "Este dashboard interactivo presenta un análisis exploratorio del comportamiento de clientes de una tienda online.\n",
        "El objetivo es identificar y caracterizar a los clientes más valiosos y a aquellos en riesgo de abandono para proponer estrategias de retención.\n",
        "\"\"\")\n",
        "\n",
        "# --- Carga de datos ---\n",
        "@st.cache_data\n",
        "def load_data():\n",
        "    df_rfm = pd.read_csv('rfm_segmentation.csv', index_col='Customer ID')\n",
        "    df_merged = pd.read_csv('df_merged_with_segments.csv')\n",
        "    return df_rfm, df_merged\n",
        "\n",
        "try:\n",
        "    df_rfm, df_merged = load_data()\n",
        "except FileNotFoundError:\n",
        "    st.error(\"Por favor, sube los archivos 'rfm_segmentation.csv' y 'df_merged_with_segments.csv' a la sesión de Colab.\")\n",
        "    st.stop()\n",
        "\n",
        "\n",
        "# --- Vistas del Dashboard ---\n",
        "\n",
        "# 1. Distribución de clientes por segmento RFM\n",
        "st.subheader(\"1. Distribución de Clientes por Segmento RFM\")\n",
        "segment_counts = df_rfm['Segment'].value_counts().reset_index()\n",
        "segment_counts.columns = ['Segmento', 'Número de Clientes']\n",
        "fig1 = px.bar(segment_counts, x='Segmento', y='Número de Clientes',\n",
        "             title='Número de Clientes por Segmento', color='Segmento')\n",
        "st.plotly_chart(fig1, use_container_width=True)\n",
        "st.markdown(\"\"\"\n",
        "    _**Conclusión de la sección:**_ Este gráfico nos da una visión general de la base de clientes, mostrando qué porcentaje de nuestros clientes se encuentran en los segmentos más valiosos (\"Loyal Customers\") y cuáles están en riesgo de abandono (\"At Risk\"). Esta segmentación es fundamental para enfocar los esfuerzos de marketing de manera estratégica.\n",
        "\"\"\")\n",
        "\n",
        "# 2. Análisis de ventas por país (Mapa)\n",
        "st.subheader(\"2. Análisis Geográfico de Clientes\")\n",
        "sales_by_country = df_merged.groupby('Country')['TotalPrice'].sum().reset_index()\n",
        "fig2 = px.choropleth(sales_by_country,\n",
        "                    locations='Country',\n",
        "                    locationmode='country names',\n",
        "                    color='TotalPrice',\n",
        "                    hover_name='Country',\n",
        "                    color_continuous_scale=px.colors.sequential.Plasma,\n",
        "                    title='Ventas Totales por País')\n",
        "st.plotly_chart(fig2, use_container_width=True)\n",
        "st.markdown(\"\"\"\n",
        "    _**Conclusión de la sección:**_ La mayor parte de las ventas proviene del Reino Unido, lo que lo confirma como nuestro mercado principal. Sin embargo, el mapa también destaca la presencia en otros países europeos, lo que representa una oportunidad para expandir y personalizar estrategias de marketing a nivel regional.\n",
        "\"\"\")\n",
        "\n",
        "# 3. Exploración detallada de los segmentos\n",
        "st.subheader(\"3. Exploración Detallada de los Segmentos\")\n",
        "\n",
        "selected_segment = st.selectbox(\n",
        "    \"Selecciona un segmento para analizar:\",\n",
        "    df_rfm['Segment'].unique()\n",
        ")\n",
        "\n",
        "col1, col2 = st.columns(2)\n",
        "\n",
        "with col1:\n",
        "    st.markdown(f\"**Top 10 Productos del segmento '{selected_segment}'**\")\n",
        "    df_segment = df_merged[df_merged['Segment'] == selected_segment]\n",
        "    top_products = df_segment['Description'].value_counts().head(10).reset_index()\n",
        "    top_products.columns = ['Producto', 'Cantidad']\n",
        "    st.dataframe(top_products, use_container_width=True)\n",
        "\n",
        "with col2:\n",
        "    st.markdown(f\"**Comparación con el segmento 'Loyal Customers'**\")\n",
        "    loyal_df = df_merged[df_merged['Segment'] == 'Loyal Customers']\n",
        "    top_products_loyal = loyal_df['Description'].value_counts().head(10).reset_index()\n",
        "    top_products_loyal.columns = ['Producto', 'Cantidad']\n",
        "    comparison_df = top_products.merge(top_products_loyal, on='Producto', how='outer', suffixes=(f' ({selected_segment})', ' (Loyal Customers)'))\n",
        "    comparison_df = comparison_df.fillna(0)\n",
        "    st.dataframe(comparison_df, use_container_width=True)\n",
        "\n",
        "st.markdown(\"\"\"\n",
        "    _**Conclusión de la sección:**_ Al comparar los productos, notamos una diferencia clave en el comportamiento de compra. Los \"Loyal Customers\" tienden a comprar productos más funcionales y de uso diario, mientras que los \"At Risk\" se enfocan en artículos decorativos. La oportunidad de negocio reside en promocionar los productos funcionales a los clientes en riesgo para convertirlos en clientes leales.\n",
        "\"\"\")\n",
        "\n",
        "# 4. Análisis de la canasta de productos (reglas de asociación)\n",
        "st.subheader(\"4. Análisis de la Canasta de Productos\")\n",
        "st.markdown(\"Identifica productos que se compran juntos con frecuencia para estrategias de venta cruzada.\")\n",
        "\n",
        "@st.cache_data\n",
        "def get_basket_analysis(dataframe):\n",
        "    basket = (dataframe[dataframe['Country'] == 'United Kingdom']\n",
        "              .groupby(['Invoice', 'Description'])['Quantity']\n",
        "              .sum().unstack().reset_index().fillna(0)\n",
        "              .set_index('Invoice'))\n",
        "    def encode_units(x):\n",
        "        return 1 if x >= 1 else 0\n",
        "    basket_sets = basket.applymap(encode_units)\n",
        "    frequent_itemsets = apriori(basket_sets, min_support=0.03, use_colnames=True)\n",
        "    rules = association_rules(frequent_itemsets, metric=\"lift\", min_threshold=1)\n",
        "    rules.sort_values('lift', ascending=False, inplace=True)\n",
        "    return rules\n",
        "\n",
        "rules = get_basket_analysis(df_merged)\n",
        "\n",
        "st.markdown(\"### Reglas de Asociación (Top 10)\")\n",
        "st.dataframe(rules[['antecedents', 'consequents', 'support', 'confidence', 'lift']].head(10), use_container_width=True)\n",
        "st.markdown(\"\"\"\n",
        "    _**Conclusión de la sección:**_ Las reglas de asociación revelan patrones de compra, como \"los clientes que compraron A, también compraron B\". Con esta información, podemos optimizar la ubicación de los productos en la tienda virtual o crear ofertas de paquetes para impulsar las ventas cruzadas y aumentar el valor de vida del cliente.\n",
        "\"\"\")\n",
        "\n",
        "st.markdown(\"---\")\n",
        "st.markdown(\"Este dashboard es una muestra del análisis de datos. Los resultados y visualizaciones se pueden usar para informar decisiones estratégicas de negocio.\")"
      ],
      "metadata": {
        "colab": {
          "base_uri": "https://localhost:8080/"
        },
        "id": "M7f0NU8LXr-a",
        "outputId": "1d04b0f7-b7a6-49cc-f143-774bec84c8a8"
      },
      "execution_count": 33,
      "outputs": [
        {
          "output_type": "stream",
          "name": "stdout",
          "text": [
            "Overwriting app.py\n"
          ]
        }
      ]
    },
    {
      "cell_type": "code",
      "source": [
        "from pyngrok import ngrok\n",
        "ngrok.kill()"
      ],
      "metadata": {
        "id": "PJRXvMOGVGry"
      },
      "execution_count": 34,
      "outputs": []
    },
    {
      "cell_type": "code",
      "source": [
        "!nohup streamlit run app.py &\n",
        "public_url = ngrok.connect(8501)\n",
        "print(f\"La URL pública de tu dashboard es: {public_url}\")"
      ],
      "metadata": {
        "colab": {
          "base_uri": "https://localhost:8080/"
        },
        "id": "7My2hRaoXxou",
        "outputId": "861b219e-1730-40b8-ac0e-8071ce5a51de"
      },
      "execution_count": 35,
      "outputs": [
        {
          "output_type": "stream",
          "name": "stdout",
          "text": [
            "nohup: appending output to 'nohup.out'\n",
            "La URL pública de tu dashboard es: NgrokTunnel: \"https://a941325b5cb7.ngrok-free.app\" -> \"http://localhost:8501\"\n"
          ]
        }
      ]
    },
    {
      "cell_type": "code",
      "source": [
        "pip freeze > requirements.txt"
      ],
      "metadata": {
        "id": "mSfA2hv_ypGC"
      },
      "execution_count": 36,
      "outputs": []
    }
  ]
}
